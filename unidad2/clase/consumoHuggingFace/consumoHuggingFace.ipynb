{
 "cells": [
  {
   "cell_type": "code",
   "execution_count": 2,
   "metadata": {},
   "outputs": [
    {
     "name": "stdout",
     "output_type": "stream",
     "text": [
      "Requirement already satisfied: transformers in /home/walmache/MEGA/autoCapacitacion/Maestria-IA/1.percepcionComputacional/repos/practicasPercepcionComputacional/.venv/lib/python3.10/site-packages (4.41.2)\n",
      "Requirement already satisfied: filelock in /home/walmache/MEGA/autoCapacitacion/Maestria-IA/1.percepcionComputacional/repos/practicasPercepcionComputacional/.venv/lib/python3.10/site-packages (from transformers) (3.15.1)\n",
      "Requirement already satisfied: huggingface-hub<1.0,>=0.23.0 in /home/walmache/MEGA/autoCapacitacion/Maestria-IA/1.percepcionComputacional/repos/practicasPercepcionComputacional/.venv/lib/python3.10/site-packages (from transformers) (0.23.4)\n",
      "Requirement already satisfied: numpy>=1.17 in /home/walmache/MEGA/autoCapacitacion/Maestria-IA/1.percepcionComputacional/repos/practicasPercepcionComputacional/.venv/lib/python3.10/site-packages (from transformers) (1.26.4)\n",
      "Requirement already satisfied: packaging>=20.0 in /home/walmache/MEGA/autoCapacitacion/Maestria-IA/1.percepcionComputacional/repos/practicasPercepcionComputacional/.venv/lib/python3.10/site-packages (from transformers) (24.1)\n",
      "Requirement already satisfied: pyyaml>=5.1 in /home/walmache/MEGA/autoCapacitacion/Maestria-IA/1.percepcionComputacional/repos/practicasPercepcionComputacional/.venv/lib/python3.10/site-packages (from transformers) (6.0.1)\n",
      "Requirement already satisfied: regex!=2019.12.17 in /home/walmache/MEGA/autoCapacitacion/Maestria-IA/1.percepcionComputacional/repos/practicasPercepcionComputacional/.venv/lib/python3.10/site-packages (from transformers) (2024.5.15)\n",
      "Requirement already satisfied: requests in /home/walmache/MEGA/autoCapacitacion/Maestria-IA/1.percepcionComputacional/repos/practicasPercepcionComputacional/.venv/lib/python3.10/site-packages (from transformers) (2.32.3)\n",
      "Requirement already satisfied: tokenizers<0.20,>=0.19 in /home/walmache/MEGA/autoCapacitacion/Maestria-IA/1.percepcionComputacional/repos/practicasPercepcionComputacional/.venv/lib/python3.10/site-packages (from transformers) (0.19.1)\n",
      "Requirement already satisfied: safetensors>=0.4.1 in /home/walmache/MEGA/autoCapacitacion/Maestria-IA/1.percepcionComputacional/repos/practicasPercepcionComputacional/.venv/lib/python3.10/site-packages (from transformers) (0.4.3)\n",
      "Requirement already satisfied: tqdm>=4.27 in /home/walmache/MEGA/autoCapacitacion/Maestria-IA/1.percepcionComputacional/repos/practicasPercepcionComputacional/.venv/lib/python3.10/site-packages (from transformers) (4.66.4)\n",
      "Requirement already satisfied: fsspec>=2023.5.0 in /home/walmache/MEGA/autoCapacitacion/Maestria-IA/1.percepcionComputacional/repos/practicasPercepcionComputacional/.venv/lib/python3.10/site-packages (from huggingface-hub<1.0,>=0.23.0->transformers) (2024.6.0)\n",
      "Requirement already satisfied: typing-extensions>=3.7.4.3 in /home/walmache/MEGA/autoCapacitacion/Maestria-IA/1.percepcionComputacional/repos/practicasPercepcionComputacional/.venv/lib/python3.10/site-packages (from huggingface-hub<1.0,>=0.23.0->transformers) (4.12.2)\n",
      "Requirement already satisfied: charset-normalizer<4,>=2 in /home/walmache/MEGA/autoCapacitacion/Maestria-IA/1.percepcionComputacional/repos/practicasPercepcionComputacional/.venv/lib/python3.10/site-packages (from requests->transformers) (3.3.2)\n",
      "Requirement already satisfied: idna<4,>=2.5 in /home/walmache/MEGA/autoCapacitacion/Maestria-IA/1.percepcionComputacional/repos/practicasPercepcionComputacional/.venv/lib/python3.10/site-packages (from requests->transformers) (3.7)\n",
      "Requirement already satisfied: urllib3<3,>=1.21.1 in /home/walmache/MEGA/autoCapacitacion/Maestria-IA/1.percepcionComputacional/repos/practicasPercepcionComputacional/.venv/lib/python3.10/site-packages (from requests->transformers) (2.2.1)\n",
      "Requirement already satisfied: certifi>=2017.4.17 in /home/walmache/MEGA/autoCapacitacion/Maestria-IA/1.percepcionComputacional/repos/practicasPercepcionComputacional/.venv/lib/python3.10/site-packages (from requests->transformers) (2024.6.2)\n",
      "Requirement already satisfied: torch in /home/walmache/MEGA/autoCapacitacion/Maestria-IA/1.percepcionComputacional/repos/practicasPercepcionComputacional/.venv/lib/python3.10/site-packages (2.3.1)\n",
      "Requirement already satisfied: filelock in /home/walmache/MEGA/autoCapacitacion/Maestria-IA/1.percepcionComputacional/repos/practicasPercepcionComputacional/.venv/lib/python3.10/site-packages (from torch) (3.15.1)\n",
      "Requirement already satisfied: typing-extensions>=4.8.0 in /home/walmache/MEGA/autoCapacitacion/Maestria-IA/1.percepcionComputacional/repos/practicasPercepcionComputacional/.venv/lib/python3.10/site-packages (from torch) (4.12.2)\n",
      "Requirement already satisfied: sympy in /home/walmache/MEGA/autoCapacitacion/Maestria-IA/1.percepcionComputacional/repos/practicasPercepcionComputacional/.venv/lib/python3.10/site-packages (from torch) (1.12.1)\n",
      "Requirement already satisfied: networkx in /home/walmache/MEGA/autoCapacitacion/Maestria-IA/1.percepcionComputacional/repos/practicasPercepcionComputacional/.venv/lib/python3.10/site-packages (from torch) (3.3)\n",
      "Requirement already satisfied: jinja2 in /home/walmache/MEGA/autoCapacitacion/Maestria-IA/1.percepcionComputacional/repos/practicasPercepcionComputacional/.venv/lib/python3.10/site-packages (from torch) (3.1.4)\n",
      "Requirement already satisfied: fsspec in /home/walmache/MEGA/autoCapacitacion/Maestria-IA/1.percepcionComputacional/repos/practicasPercepcionComputacional/.venv/lib/python3.10/site-packages (from torch) (2024.6.0)\n",
      "Requirement already satisfied: nvidia-cuda-nvrtc-cu12==12.1.105 in /home/walmache/MEGA/autoCapacitacion/Maestria-IA/1.percepcionComputacional/repos/practicasPercepcionComputacional/.venv/lib/python3.10/site-packages (from torch) (12.1.105)\n",
      "Requirement already satisfied: nvidia-cuda-runtime-cu12==12.1.105 in /home/walmache/MEGA/autoCapacitacion/Maestria-IA/1.percepcionComputacional/repos/practicasPercepcionComputacional/.venv/lib/python3.10/site-packages (from torch) (12.1.105)\n",
      "Requirement already satisfied: nvidia-cuda-cupti-cu12==12.1.105 in /home/walmache/MEGA/autoCapacitacion/Maestria-IA/1.percepcionComputacional/repos/practicasPercepcionComputacional/.venv/lib/python3.10/site-packages (from torch) (12.1.105)\n",
      "Requirement already satisfied: nvidia-cudnn-cu12==8.9.2.26 in /home/walmache/MEGA/autoCapacitacion/Maestria-IA/1.percepcionComputacional/repos/practicasPercepcionComputacional/.venv/lib/python3.10/site-packages (from torch) (8.9.2.26)\n",
      "Requirement already satisfied: nvidia-cublas-cu12==12.1.3.1 in /home/walmache/MEGA/autoCapacitacion/Maestria-IA/1.percepcionComputacional/repos/practicasPercepcionComputacional/.venv/lib/python3.10/site-packages (from torch) (12.1.3.1)\n",
      "Requirement already satisfied: nvidia-cufft-cu12==11.0.2.54 in /home/walmache/MEGA/autoCapacitacion/Maestria-IA/1.percepcionComputacional/repos/practicasPercepcionComputacional/.venv/lib/python3.10/site-packages (from torch) (11.0.2.54)\n",
      "Requirement already satisfied: nvidia-curand-cu12==10.3.2.106 in /home/walmache/MEGA/autoCapacitacion/Maestria-IA/1.percepcionComputacional/repos/practicasPercepcionComputacional/.venv/lib/python3.10/site-packages (from torch) (10.3.2.106)\n",
      "Requirement already satisfied: nvidia-cusolver-cu12==11.4.5.107 in /home/walmache/MEGA/autoCapacitacion/Maestria-IA/1.percepcionComputacional/repos/practicasPercepcionComputacional/.venv/lib/python3.10/site-packages (from torch) (11.4.5.107)\n",
      "Requirement already satisfied: nvidia-cusparse-cu12==12.1.0.106 in /home/walmache/MEGA/autoCapacitacion/Maestria-IA/1.percepcionComputacional/repos/practicasPercepcionComputacional/.venv/lib/python3.10/site-packages (from torch) (12.1.0.106)\n",
      "Requirement already satisfied: nvidia-nccl-cu12==2.20.5 in /home/walmache/MEGA/autoCapacitacion/Maestria-IA/1.percepcionComputacional/repos/practicasPercepcionComputacional/.venv/lib/python3.10/site-packages (from torch) (2.20.5)\n",
      "Requirement already satisfied: nvidia-nvtx-cu12==12.1.105 in /home/walmache/MEGA/autoCapacitacion/Maestria-IA/1.percepcionComputacional/repos/practicasPercepcionComputacional/.venv/lib/python3.10/site-packages (from torch) (12.1.105)\n",
      "Requirement already satisfied: triton==2.3.1 in /home/walmache/MEGA/autoCapacitacion/Maestria-IA/1.percepcionComputacional/repos/practicasPercepcionComputacional/.venv/lib/python3.10/site-packages (from torch) (2.3.1)\n",
      "Requirement already satisfied: nvidia-nvjitlink-cu12 in /home/walmache/MEGA/autoCapacitacion/Maestria-IA/1.percepcionComputacional/repos/practicasPercepcionComputacional/.venv/lib/python3.10/site-packages (from nvidia-cusolver-cu12==11.4.5.107->torch) (12.5.40)\n",
      "Requirement already satisfied: MarkupSafe>=2.0 in /home/walmache/MEGA/autoCapacitacion/Maestria-IA/1.percepcionComputacional/repos/practicasPercepcionComputacional/.venv/lib/python3.10/site-packages (from jinja2->torch) (2.1.5)\n",
      "Requirement already satisfied: mpmath<1.4.0,>=1.1.0 in /home/walmache/MEGA/autoCapacitacion/Maestria-IA/1.percepcionComputacional/repos/practicasPercepcionComputacional/.venv/lib/python3.10/site-packages (from sympy->torch) (1.3.0)\n",
      "Requirement already satisfied: tf-keras in /home/walmache/MEGA/autoCapacitacion/Maestria-IA/1.percepcionComputacional/repos/practicasPercepcionComputacional/.venv/lib/python3.10/site-packages (2.16.0)\n",
      "Requirement already satisfied: tensorflow<2.17,>=2.16 in /home/walmache/MEGA/autoCapacitacion/Maestria-IA/1.percepcionComputacional/repos/practicasPercepcionComputacional/.venv/lib/python3.10/site-packages (from tf-keras) (2.16.1)\n",
      "Requirement already satisfied: absl-py>=1.0.0 in /home/walmache/MEGA/autoCapacitacion/Maestria-IA/1.percepcionComputacional/repos/practicasPercepcionComputacional/.venv/lib/python3.10/site-packages (from tensorflow<2.17,>=2.16->tf-keras) (2.1.0)\n",
      "Requirement already satisfied: astunparse>=1.6.0 in /home/walmache/MEGA/autoCapacitacion/Maestria-IA/1.percepcionComputacional/repos/practicasPercepcionComputacional/.venv/lib/python3.10/site-packages (from tensorflow<2.17,>=2.16->tf-keras) (1.6.3)\n",
      "Requirement already satisfied: flatbuffers>=23.5.26 in /home/walmache/MEGA/autoCapacitacion/Maestria-IA/1.percepcionComputacional/repos/practicasPercepcionComputacional/.venv/lib/python3.10/site-packages (from tensorflow<2.17,>=2.16->tf-keras) (24.3.25)\n",
      "Requirement already satisfied: gast!=0.5.0,!=0.5.1,!=0.5.2,>=0.2.1 in /home/walmache/MEGA/autoCapacitacion/Maestria-IA/1.percepcionComputacional/repos/practicasPercepcionComputacional/.venv/lib/python3.10/site-packages (from tensorflow<2.17,>=2.16->tf-keras) (0.5.4)\n",
      "Requirement already satisfied: google-pasta>=0.1.1 in /home/walmache/MEGA/autoCapacitacion/Maestria-IA/1.percepcionComputacional/repos/practicasPercepcionComputacional/.venv/lib/python3.10/site-packages (from tensorflow<2.17,>=2.16->tf-keras) (0.2.0)\n",
      "Requirement already satisfied: h5py>=3.10.0 in /home/walmache/MEGA/autoCapacitacion/Maestria-IA/1.percepcionComputacional/repos/practicasPercepcionComputacional/.venv/lib/python3.10/site-packages (from tensorflow<2.17,>=2.16->tf-keras) (3.11.0)\n",
      "Requirement already satisfied: libclang>=13.0.0 in /home/walmache/MEGA/autoCapacitacion/Maestria-IA/1.percepcionComputacional/repos/practicasPercepcionComputacional/.venv/lib/python3.10/site-packages (from tensorflow<2.17,>=2.16->tf-keras) (18.1.1)\n",
      "Requirement already satisfied: ml-dtypes~=0.3.1 in /home/walmache/MEGA/autoCapacitacion/Maestria-IA/1.percepcionComputacional/repos/practicasPercepcionComputacional/.venv/lib/python3.10/site-packages (from tensorflow<2.17,>=2.16->tf-keras) (0.3.2)\n",
      "Requirement already satisfied: opt-einsum>=2.3.2 in /home/walmache/MEGA/autoCapacitacion/Maestria-IA/1.percepcionComputacional/repos/practicasPercepcionComputacional/.venv/lib/python3.10/site-packages (from tensorflow<2.17,>=2.16->tf-keras) (3.3.0)\n",
      "Requirement already satisfied: packaging in /home/walmache/MEGA/autoCapacitacion/Maestria-IA/1.percepcionComputacional/repos/practicasPercepcionComputacional/.venv/lib/python3.10/site-packages (from tensorflow<2.17,>=2.16->tf-keras) (24.1)\n",
      "Requirement already satisfied: protobuf!=4.21.0,!=4.21.1,!=4.21.2,!=4.21.3,!=4.21.4,!=4.21.5,<5.0.0dev,>=3.20.3 in /home/walmache/MEGA/autoCapacitacion/Maestria-IA/1.percepcionComputacional/repos/practicasPercepcionComputacional/.venv/lib/python3.10/site-packages (from tensorflow<2.17,>=2.16->tf-keras) (4.25.3)\n",
      "Requirement already satisfied: requests<3,>=2.21.0 in /home/walmache/MEGA/autoCapacitacion/Maestria-IA/1.percepcionComputacional/repos/practicasPercepcionComputacional/.venv/lib/python3.10/site-packages (from tensorflow<2.17,>=2.16->tf-keras) (2.32.3)\n",
      "Requirement already satisfied: setuptools in /home/walmache/MEGA/autoCapacitacion/Maestria-IA/1.percepcionComputacional/repos/practicasPercepcionComputacional/.venv/lib/python3.10/site-packages (from tensorflow<2.17,>=2.16->tf-keras) (70.0.0)\n",
      "Requirement already satisfied: six>=1.12.0 in /home/walmache/MEGA/autoCapacitacion/Maestria-IA/1.percepcionComputacional/repos/practicasPercepcionComputacional/.venv/lib/python3.10/site-packages (from tensorflow<2.17,>=2.16->tf-keras) (1.16.0)\n",
      "Requirement already satisfied: termcolor>=1.1.0 in /home/walmache/MEGA/autoCapacitacion/Maestria-IA/1.percepcionComputacional/repos/practicasPercepcionComputacional/.venv/lib/python3.10/site-packages (from tensorflow<2.17,>=2.16->tf-keras) (2.4.0)\n",
      "Requirement already satisfied: typing-extensions>=3.6.6 in /home/walmache/MEGA/autoCapacitacion/Maestria-IA/1.percepcionComputacional/repos/practicasPercepcionComputacional/.venv/lib/python3.10/site-packages (from tensorflow<2.17,>=2.16->tf-keras) (4.12.2)\n",
      "Requirement already satisfied: wrapt>=1.11.0 in /home/walmache/MEGA/autoCapacitacion/Maestria-IA/1.percepcionComputacional/repos/practicasPercepcionComputacional/.venv/lib/python3.10/site-packages (from tensorflow<2.17,>=2.16->tf-keras) (1.16.0)\n",
      "Requirement already satisfied: grpcio<2.0,>=1.24.3 in /home/walmache/MEGA/autoCapacitacion/Maestria-IA/1.percepcionComputacional/repos/practicasPercepcionComputacional/.venv/lib/python3.10/site-packages (from tensorflow<2.17,>=2.16->tf-keras) (1.64.1)\n",
      "Requirement already satisfied: tensorboard<2.17,>=2.16 in /home/walmache/MEGA/autoCapacitacion/Maestria-IA/1.percepcionComputacional/repos/practicasPercepcionComputacional/.venv/lib/python3.10/site-packages (from tensorflow<2.17,>=2.16->tf-keras) (2.16.2)\n",
      "Requirement already satisfied: keras>=3.0.0 in /home/walmache/MEGA/autoCapacitacion/Maestria-IA/1.percepcionComputacional/repos/practicasPercepcionComputacional/.venv/lib/python3.10/site-packages (from tensorflow<2.17,>=2.16->tf-keras) (3.3.3)\n",
      "Requirement already satisfied: tensorflow-io-gcs-filesystem>=0.23.1 in /home/walmache/MEGA/autoCapacitacion/Maestria-IA/1.percepcionComputacional/repos/practicasPercepcionComputacional/.venv/lib/python3.10/site-packages (from tensorflow<2.17,>=2.16->tf-keras) (0.37.0)\n",
      "Requirement already satisfied: numpy<2.0.0,>=1.23.5 in /home/walmache/MEGA/autoCapacitacion/Maestria-IA/1.percepcionComputacional/repos/practicasPercepcionComputacional/.venv/lib/python3.10/site-packages (from tensorflow<2.17,>=2.16->tf-keras) (1.26.4)\n",
      "Requirement already satisfied: wheel<1.0,>=0.23.0 in /home/walmache/MEGA/autoCapacitacion/Maestria-IA/1.percepcionComputacional/repos/practicasPercepcionComputacional/.venv/lib/python3.10/site-packages (from astunparse>=1.6.0->tensorflow<2.17,>=2.16->tf-keras) (0.43.0)\n",
      "Requirement already satisfied: rich in /home/walmache/MEGA/autoCapacitacion/Maestria-IA/1.percepcionComputacional/repos/practicasPercepcionComputacional/.venv/lib/python3.10/site-packages (from keras>=3.0.0->tensorflow<2.17,>=2.16->tf-keras) (13.7.1)\n",
      "Requirement already satisfied: namex in /home/walmache/MEGA/autoCapacitacion/Maestria-IA/1.percepcionComputacional/repos/practicasPercepcionComputacional/.venv/lib/python3.10/site-packages (from keras>=3.0.0->tensorflow<2.17,>=2.16->tf-keras) (0.0.8)\n",
      "Requirement already satisfied: optree in /home/walmache/MEGA/autoCapacitacion/Maestria-IA/1.percepcionComputacional/repos/practicasPercepcionComputacional/.venv/lib/python3.10/site-packages (from keras>=3.0.0->tensorflow<2.17,>=2.16->tf-keras) (0.11.0)\n",
      "Requirement already satisfied: charset-normalizer<4,>=2 in /home/walmache/MEGA/autoCapacitacion/Maestria-IA/1.percepcionComputacional/repos/practicasPercepcionComputacional/.venv/lib/python3.10/site-packages (from requests<3,>=2.21.0->tensorflow<2.17,>=2.16->tf-keras) (3.3.2)\n",
      "Requirement already satisfied: idna<4,>=2.5 in /home/walmache/MEGA/autoCapacitacion/Maestria-IA/1.percepcionComputacional/repos/practicasPercepcionComputacional/.venv/lib/python3.10/site-packages (from requests<3,>=2.21.0->tensorflow<2.17,>=2.16->tf-keras) (3.7)\n",
      "Requirement already satisfied: urllib3<3,>=1.21.1 in /home/walmache/MEGA/autoCapacitacion/Maestria-IA/1.percepcionComputacional/repos/practicasPercepcionComputacional/.venv/lib/python3.10/site-packages (from requests<3,>=2.21.0->tensorflow<2.17,>=2.16->tf-keras) (2.2.1)\n",
      "Requirement already satisfied: certifi>=2017.4.17 in /home/walmache/MEGA/autoCapacitacion/Maestria-IA/1.percepcionComputacional/repos/practicasPercepcionComputacional/.venv/lib/python3.10/site-packages (from requests<3,>=2.21.0->tensorflow<2.17,>=2.16->tf-keras) (2024.6.2)\n",
      "Requirement already satisfied: markdown>=2.6.8 in /home/walmache/MEGA/autoCapacitacion/Maestria-IA/1.percepcionComputacional/repos/practicasPercepcionComputacional/.venv/lib/python3.10/site-packages (from tensorboard<2.17,>=2.16->tensorflow<2.17,>=2.16->tf-keras) (3.6)\n",
      "Requirement already satisfied: tensorboard-data-server<0.8.0,>=0.7.0 in /home/walmache/MEGA/autoCapacitacion/Maestria-IA/1.percepcionComputacional/repos/practicasPercepcionComputacional/.venv/lib/python3.10/site-packages (from tensorboard<2.17,>=2.16->tensorflow<2.17,>=2.16->tf-keras) (0.7.2)\n",
      "Requirement already satisfied: werkzeug>=1.0.1 in /home/walmache/MEGA/autoCapacitacion/Maestria-IA/1.percepcionComputacional/repos/practicasPercepcionComputacional/.venv/lib/python3.10/site-packages (from tensorboard<2.17,>=2.16->tensorflow<2.17,>=2.16->tf-keras) (3.0.3)\n",
      "Requirement already satisfied: MarkupSafe>=2.1.1 in /home/walmache/MEGA/autoCapacitacion/Maestria-IA/1.percepcionComputacional/repos/practicasPercepcionComputacional/.venv/lib/python3.10/site-packages (from werkzeug>=1.0.1->tensorboard<2.17,>=2.16->tensorflow<2.17,>=2.16->tf-keras) (2.1.5)\n",
      "Requirement already satisfied: markdown-it-py>=2.2.0 in /home/walmache/MEGA/autoCapacitacion/Maestria-IA/1.percepcionComputacional/repos/practicasPercepcionComputacional/.venv/lib/python3.10/site-packages (from rich->keras>=3.0.0->tensorflow<2.17,>=2.16->tf-keras) (3.0.0)\n",
      "Requirement already satisfied: pygments<3.0.0,>=2.13.0 in /home/walmache/MEGA/autoCapacitacion/Maestria-IA/1.percepcionComputacional/repos/practicasPercepcionComputacional/.venv/lib/python3.10/site-packages (from rich->keras>=3.0.0->tensorflow<2.17,>=2.16->tf-keras) (2.18.0)\n",
      "Requirement already satisfied: mdurl~=0.1 in /home/walmache/MEGA/autoCapacitacion/Maestria-IA/1.percepcionComputacional/repos/practicasPercepcionComputacional/.venv/lib/python3.10/site-packages (from markdown-it-py>=2.2.0->rich->keras>=3.0.0->tensorflow<2.17,>=2.16->tf-keras) (0.1.2)\n"
     ]
    }
   ],
   "source": [
    "# Instalación de la biblioteca transformers y torch\n",
    "!pip install transformers\n",
    "!pip install torch\n",
    "!pip install tf-keras"
   ]
  },
  {
   "cell_type": "code",
   "execution_count": 4,
   "metadata": {},
   "outputs": [],
   "source": [
    "#Importamos `pipeline` de la librería `transformers`\n",
    "from transformers import pipeline"
   ]
  },
  {
   "cell_type": "code",
   "execution_count": 5,
   "metadata": {},
   "outputs": [],
   "source": [
    "generator = pipeline('text-generation',model='gpt2')\n"
   ]
  },
  {
   "cell_type": "code",
   "execution_count": 8,
   "metadata": {},
   "outputs": [
    {
     "name": "stderr",
     "output_type": "stream",
     "text": [
      "Truncation was not explicitly activated but `max_length` is provided a specific value, please use `truncation=True` to explicitly truncate examples to max length. Defaulting to 'longest_first' truncation strategy. If you encode pairs of sequences (GLUE-style) with the tokenizer you can select this strategy more precisely by providing a specific strategy to `truncation`.\n",
      "Setting `pad_token_id` to `eos_token_id`:50256 for open-end generation.\n"
     ]
    },
    {
     "name": "stdout",
     "output_type": "stream",
     "text": [
      "Había una vez granían que hayla los á la vística.\n",
      "\n",
      "La vística está todo una lo más téléphía. Hípás habl\n"
     ]
    }
   ],
   "source": [
    "# Cargamos un pipeline de generación de texto\n",
    "generator = pipeline('text-generation', model='gpt2')\n",
    "\n",
    "# Generamos texto con el modelo cargado\n",
    "text = generator(\"Había una vez\", max_length=50, num_return_sequences=1)\n",
    "print(text[0]['generated_text'])"
   ]
  },
  {
   "cell_type": "code",
   "execution_count": 9,
   "metadata": {},
   "outputs": [
    {
     "name": "stderr",
     "output_type": "stream",
     "text": [
      "Setting `pad_token_id` to `eos_token_id`:50256 for open-end generation.\n",
      "Setting `pad_token_id` to `eos_token_id`:50256 for open-end generation.\n"
     ]
    },
    {
     "name": "stdout",
     "output_type": "stream",
     "text": [
      "Prompt: In the future, AI will\n",
      "Generated Text: In the future, AI will not exist as a feature, like computers or humans. It's more like one AI, if you will. We still need powerful, robust, efficient machines that do things the human mind won't do. But I think\n",
      "\n"
     ]
    },
    {
     "name": "stderr",
     "output_type": "stream",
     "text": [
      "Setting `pad_token_id` to `eos_token_id`:50256 for open-end generation.\n"
     ]
    },
    {
     "name": "stdout",
     "output_type": "stream",
     "text": [
      "Prompt: The secret to happiness is\n",
      "Generated Text: The secret to happiness is hard work, love, perseverance, compassion, and self-discovery. We don't have to learn anything from every person in the world. And we can learn by doing these things. Don't get me wrong,\n",
      "\n",
      "Prompt: The quick brown fox\n",
      "Generated Text: The quick brown foxes come in a multitude of shapes and forms for different kinds, and most are just small fowls with no large heads. Many are larger birds or lizards, but are more common in smaller numbers. The first breed the\n",
      "\n"
     ]
    }
   ],
   "source": [
    "# Ejemplo de generación de texto con diferentes prompts\n",
    "prompts = [\n",
    "    \"In the future, AI will\",\n",
    "    \"The secret to happiness is\",\n",
    "    \"The quick brown fox\"\n",
    "]\n",
    "\n",
    "for prompt in prompts:\n",
    "    text = generator(prompt, max_length=50, num_return_sequences=1)\n",
    "    print(f\"Prompt: {prompt}\")\n",
    "    print(f\"Generated Text: {text[0]['generated_text']}\\n\")"
   ]
  },
  {
   "cell_type": "code",
   "execution_count": 10,
   "metadata": {},
   "outputs": [
    {
     "name": "stderr",
     "output_type": "stream",
     "text": [
      "No model was supplied, defaulted to distilbert/distilbert-base-cased-distilled-squad and revision 626af31 (https://huggingface.co/distilbert/distilbert-base-cased-distilled-squad).\n",
      "Using a pipeline without specifying a model name and revision in production is not recommended.\n",
      "/home/walmache/MEGA/autoCapacitacion/Maestria-IA/1.percepcionComputacional/repos/practicasPercepcionComputacional/.venv/lib/python3.10/site-packages/huggingface_hub/file_download.py:1132: FutureWarning: `resume_download` is deprecated and will be removed in version 1.0.0. Downloads always resume when possible. If you want to force a new download, use `force_download=True`.\n",
      "  warnings.warn(\n"
     ]
    },
    {
     "name": "stdout",
     "output_type": "stream",
     "text": [
      "Pregunta: ¿Qué hacen los estudiantes en la Universidad de los Hemisferios?\n",
      "Respuesta: Ecuador\n"
     ]
    }
   ],
   "source": [
    "# Cargamos un pipeline de respuesta a preguntas\n",
    "qa_pipeline = pipeline('question-answering')\n",
    "\n",
    "# Definimos el contexto y la pregunta\n",
    "context = \"La Universidad de los Hemisferios es una universidad reconocida por su calidad académica dentro de Ecuador.\"\n",
    "question = \"¿Qué hacen los estudiantes en la Universidad de los Hemisferios?\"\n",
    "\n",
    "# Obtenemos la respuesta\n",
    "result = qa_pipeline(question=question, context=context)\n",
    "print(f\"Pregunta: {question}\")\n",
    "print(f\"Respuesta: {result['answer']}\")"
   ]
  },
  {
   "cell_type": "code",
   "execution_count": 11,
   "metadata": {},
   "outputs": [
    {
     "name": "stderr",
     "output_type": "stream",
     "text": [
      "No model was supplied, defaulted to sshleifer/distilbart-cnn-12-6 and revision a4f8f3e (https://huggingface.co/sshleifer/distilbart-cnn-12-6).\n",
      "Using a pipeline without specifying a model name and revision in production is not recommended.\n"
     ]
    }
   ],
   "source": [
    "# Cargamos un pipeline de resumen\n",
    "summarizer = pipeline('summarization')\n",
    "\n",
    "# Texto largo para resumir\n",
    "long_text = \"\"\"\n",
    "La inteligencia artificial (IA) se refiere a la simulación de la inteligencia humana en máquinas que están programadas para pensar como humanos y \n",
    "imitar sus acciones. El término también se puede aplicar a cualquier máquina que exhiba rasgos asociados con una mente humana como el aprendizaje y \n",
    "la resolución de problemas. La característica ideal de la inteligencia artificial es su capacidad para racionalizar y tomar acciones que tengan \n",
    "la mejor posibilidad de alcanzar un objetivo específico. Un subconjunto de la inteligencia artificial es el aprendizaje automático, que se refiere a \n",
    "la idea de que los sistemas informáticos pueden aprender de datos, identificar patrones y tomar decisiones con una mínima intervención humana.\n",
    "\"\"\"\n",
    "\n",
    "# Generamos el resumen\n",
    "summary = summarizer(long_text, max_length=50, min_length=25, do_sample=False)\n",
    "print(\"Resumen:\")\n",
    "print(summary[0]['summary_text'])"
   ]
  },
  {
   "cell_type": "code",
   "execution_count": null,
   "metadata": {},
   "outputs": [],
   "source": [
    "# Cargamos un pipeline de traducción especificando el modelo\n",
    "translation_pipeline = pipeline('translation', model='Helsinki-NLP/opus-mt-en-es')\n",
    "\n",
    "# Definimos el texto a traducir\n",
    "text = \"Persistent homology is a method for computing topological features of a space at different spatial resolutions. More persistent features are detected over a wide range of spatial scales and are deemed more likely to represent true features of the underlying space rather than artifacts of sampling, noise, or particular choice of parameters\"\n",
    "\n",
    "# Obtenemos la traducción.\n",
    "result = translation_pipeline(text)\n",
    "print(f\"Texto original: {text}\")\n",
    "print(f\"Traducción: {result[0]['translation_text']}\")"
   ]
  },
  {
   "cell_type": "code",
   "execution_count": null,
   "metadata": {},
   "outputs": [],
   "source": [
    "# Load the sentiment analysis pipeline\n",
    "sentiment_analyzer = pipeline(\"sentiment-analysis\")\n",
    "\n",
    "# Text to analyze sentiment\n",
    "text = \"I'm feeling very happy today because I just got promoted at work! It's such a great day and I'm excited about the new opportunities ahead. However, I'm a bit nervous about the new responsibilities, but overall, I think this is a positive change.\"\n",
    "\n",
    "# Perform sentiment analysis\n",
    "sentiment_result = sentiment_analyzer(text)\n",
    "\n",
    "# Print the sentiment result\n",
    "print(\"Sentiment Analysis Result:\")\n",
    "for result in sentiment_result:\n",
    "    print(f\"Label: {result['label']}, Score: {result['score']}\")"
   ]
  },
  {
   "cell_type": "code",
   "execution_count": null,
   "metadata": {},
   "outputs": [],
   "source": [
    "from transformers import pipeline\n",
    "import pandas as pd\n",
    "\n",
    "# Load a table-question-answering pipeline\n",
    "table_qa = pipeline(\"table-question-answering\", model=\"google/tapas-base-finetuned-wtq\")\n",
    "\n",
    "# Create a table as a pandas DataFrame\n",
    "data = {\n",
    "    \"Name\": [\"Gaby\", \"May\", \"Andre\"],\n",
    "    \"Age\": [\"23\", \"26\", \"23\"],  # Ensure all entries are strings\n",
    "    \"Interest\": [\"Persistent Homology\", \"Numerical Analysis\", \"Functinal Analysis\"]\n",
    "}\n",
    "table = pd.DataFrame(data)\n",
    "\n",
    "# Ensure the table is in the correct format\n",
    "print(\"Table:\")\n",
    "print(table)\n",
    "\n",
    "# Question about the table\n",
    "question = \"What is Gaby interest?\"\n",
    "\n",
    "# Generate the answer\n",
    "answer = table_qa(table=table, query=question)\n",
    "\n",
    "# Print the question and the answer\n",
    "print(\"Question:\", question)\n",
    "print(\"Answer:\", answer['answer'])"
   ]
  },
  {
   "cell_type": "code",
   "execution_count": null,
   "metadata": {},
   "outputs": [],
   "source": [
    "# Cargar el pipeline de Hugging Face para imagen a texto\n",
    "#image_to_text = pipeline(\"image-to-text\", model=\"nlpconnect/vit-gpt2-image-captioning\")\n",
    "image_to_text = pipeline(\"image-to-text\")\n",
    "\n",
    "# Abrir la imagen que deseas procesar\n",
    "image_path = \"input.jpg\"  # Reemplaza con la ruta a tu imagen\n",
    "image = Image.open(image_path)\n",
    "\n",
    "# Generar texto a partir de la imagen\n",
    "caption = image_to_text(image)\n",
    "\n",
    "# Mostrar el resultado\n",
    "print(caption)"
   ]
  }
 ],
 "metadata": {
  "kernelspec": {
   "display_name": ".venv",
   "language": "python",
   "name": "python3"
  },
  "language_info": {
   "codemirror_mode": {
    "name": "ipython",
    "version": 3
   },
   "file_extension": ".py",
   "mimetype": "text/x-python",
   "name": "python",
   "nbconvert_exporter": "python",
   "pygments_lexer": "ipython3",
   "version": "3.10.12"
  }
 },
 "nbformat": 4,
 "nbformat_minor": 2
}
