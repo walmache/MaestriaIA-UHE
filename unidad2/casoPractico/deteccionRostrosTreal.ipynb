{
 "cells": [
  {
   "cell_type": "code",
   "execution_count": null,
   "metadata": {},
   "outputs": [],
   "source": [
    "#Deterccion de reostros en tiempo real\n",
    "import cv2"
   ]
  },
  {
   "cell_type": "code",
   "execution_count": null,
   "metadata": {},
   "outputs": [],
   "source": [
    "face_classiffier = cv2.CascadeClassifier(cv2.data.haarcascades+\"haarcascade_frontalface_default.xml\") \n",
    "#face_classiffier = cv2.CascadeClassifier(\"haarcascades/haarcascade_frontalface_default.xml\") "
   ]
  },
  {
   "cell_type": "code",
   "execution_count": null,
   "metadata": {},
   "outputs": [],
   "source": [
    "video_capture  =  cv2.VideoCapture(0)"
   ]
  },
  {
   "cell_type": "code",
   "execution_count": null,
   "metadata": {},
   "outputs": [],
   "source": [
    "def detect_bounding_box(vid):\n",
    "    gray_image = cv2.cvtColor(vid.cv2.COLOR_BGR2GRAY)\n",
    "    faces =  face_classiffier.detectMultiScale(gray_image,1.1,5,minSize=(40,40))\n",
    "    for (x,y,w,h) in faces:\n",
    "        cv2.rectangle(vid,(x,y),(x+w,y+h),(0,255,0),4)\n",
    "    return faces"
   ]
  },
  {
   "cell_type": "code",
   "execution_count": null,
   "metadata": {},
   "outputs": [],
   "source": [
    "while True:\n",
    "    result, video1 = video_capture.read()\n",
    "    if result is False:\n",
    "        break\n",
    "    faces = detect_bounding_box(video1)\n",
    "    cv2.imshow('Mi cara',video1)\n",
    "    if cv2.waitKey(1) & 0xFF == ord('q'):\n",
    "        break\n",
    "    video_capture.release()\n",
    "    cv2.destroyAllWindows"
   ]
  }
 ],
 "metadata": {
  "language_info": {
   "name": "python"
  }
 },
 "nbformat": 4,
 "nbformat_minor": 2
}
