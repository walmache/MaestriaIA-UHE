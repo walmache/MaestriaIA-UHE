{
 "cells": [
  {
   "cell_type": "code",
   "execution_count": 3,
   "metadata": {},
   "outputs": [
    {
     "name": "stdout",
     "output_type": "stream",
     "text": [
      "Defaulting to user installation because normal site-packages is not writeable\n",
      "Requirement already satisfied: cmake in /home/walmache/.local/lib/python3.10/site-packages (3.29.5.1)\n",
      "Defaulting to user installation because normal site-packages is not writeable\n",
      "Requirement already satisfied: dlib in /usr/local/lib/python3.10/dist-packages/dlib-19.24.99-py3.10-linux-x86_64.egg (19.24.99)\n"
     ]
    }
   ],
   "source": [
    "!pip install cmake\n",
    "!pip install dlib\n"
   ]
  },
  {
   "cell_type": "code",
   "execution_count": 1,
   "metadata": {},
   "outputs": [],
   "source": [
    "import cv2  # Biblioteca para el procesamiento de imágenes en tiempo real\n",
    "import face_recognition  # Biblioteca para el reconocimiento facial\n",
    "import os  "
   ]
  },
  {
   "cell_type": "code",
   "execution_count": 2,
   "metadata": {},
   "outputs": [],
   "source": [
    "# Directorio donde se almacenan las imágenes de los rostros\n",
    "rostros_dir = 'rostros/'\n",
    "\n",
    "# Listas para almacenar las codificaciones de los rostros y sus nombres\n",
    "known_face_encodings = []\n",
    "known_face_names = []\n",
    "\n",
    "# Recorrer el directorio y procesar cada imagen\n",
    "for filename in os.listdir(rostros_dir):\n",
    "    if filename.endswith('.jpg') or filename.endswith('.png'):\n",
    "        # Cargar la imagen\n",
    "        image_path = os.path.join(rostros_dir, filename)\n",
    "        image = face_recognition.load_image_file(image_path)\n",
    "        \n",
    "        # Codificar el rostro\n",
    "        face_encoding = face_recognition.face_encodings(image)[0]\n",
    "        \n",
    "        # Agregar la codificación y el nombre a las listas\n",
    "        known_face_encodings.append(face_encoding)\n",
    "        known_face_names.append(os.path.splitext(filename)[0])  # Usar el nombre del archivo sin la extensión como nombre del rostro\n"
   ]
  },
  {
   "cell_type": "code",
   "execution_count": 4,
   "metadata": {},
   "outputs": [
    {
     "name": "stderr",
     "output_type": "stream",
     "text": [
      "[ WARN:0@34.847] global cap_v4l.cpp:999 open VIDEOIO(V4L2:/dev/video0): can't open camera by index\n",
      "[ERROR:0@34.847] global obsensor_uvc_stream_channel.cpp:158 getStreamChannelGroup Camera index out of range\n"
     ]
    },
    {
     "ename": "error",
     "evalue": "OpenCV(4.10.0) /io/opencv/modules/imgproc/src/resize.cpp:4152: error: (-215:Assertion failed) !ssize.empty() in function 'resize'\n",
     "output_type": "error",
     "traceback": [
      "\u001b[0;31m---------------------------------------------------------------------------\u001b[0m",
      "\u001b[0;31merror\u001b[0m                                     Traceback (most recent call last)",
      "Cell \u001b[0;32mIn[4], line 9\u001b[0m\n\u001b[1;32m      6\u001b[0m ret, frame \u001b[38;5;241m=\u001b[39m video_capture\u001b[38;5;241m.\u001b[39mread()\n\u001b[1;32m      8\u001b[0m \u001b[38;5;66;03m# Reducir el tamaño del cuadro para acelerar el procesamiento\u001b[39;00m\n\u001b[0;32m----> 9\u001b[0m small_frame \u001b[38;5;241m=\u001b[39m \u001b[43mcv2\u001b[49m\u001b[38;5;241;43m.\u001b[39;49m\u001b[43mresize\u001b[49m\u001b[43m(\u001b[49m\u001b[43mframe\u001b[49m\u001b[43m,\u001b[49m\u001b[43m \u001b[49m\u001b[43m(\u001b[49m\u001b[38;5;241;43m0\u001b[39;49m\u001b[43m,\u001b[49m\u001b[43m \u001b[49m\u001b[38;5;241;43m0\u001b[39;49m\u001b[43m)\u001b[49m\u001b[43m,\u001b[49m\u001b[43m \u001b[49m\u001b[43mfx\u001b[49m\u001b[38;5;241;43m=\u001b[39;49m\u001b[38;5;241;43m0.25\u001b[39;49m\u001b[43m,\u001b[49m\u001b[43m \u001b[49m\u001b[43mfy\u001b[49m\u001b[38;5;241;43m=\u001b[39;49m\u001b[38;5;241;43m0.25\u001b[39;49m\u001b[43m)\u001b[49m\n\u001b[1;32m     11\u001b[0m \u001b[38;5;66;03m# Convertir el cuadro de BGR a RGB\u001b[39;00m\n\u001b[1;32m     12\u001b[0m rgb_small_frame \u001b[38;5;241m=\u001b[39m small_frame[:, :, ::\u001b[38;5;241m-\u001b[39m\u001b[38;5;241m1\u001b[39m]\n",
      "\u001b[0;31merror\u001b[0m: OpenCV(4.10.0) /io/opencv/modules/imgproc/src/resize.cpp:4152: error: (-215:Assertion failed) !ssize.empty() in function 'resize'\n"
     ]
    }
   ],
   "source": [
    "# Iniciar la captura de video desde la cámara\n",
    "video_capture = cv2.VideoCapture(0)\n",
    "\n",
    "while True:\n",
    "    # Capturar un solo cuadro de video\n",
    "    ret, frame = video_capture.read()\n",
    "    \n",
    "    # Reducir el tamaño del cuadro para acelerar el procesamiento\n",
    "    small_frame = cv2.resize(frame, (0, 0), fx=0.25, fy=0.25)\n",
    "    \n",
    "    # Convertir el cuadro de BGR a RGB\n",
    "    rgb_small_frame = small_frame[:, :, ::-1]\n",
    "    \n",
    "    # Encontrar todos los rostros y sus codificaciones en el cuadro actual\n",
    "    face_locations = face_recognition.face_locations(rgb_small_frame)\n",
    "    face_encodings = face_recognition.face_encodings(rgb_small_frame, face_locations)\n",
    "    \n",
    "    # Inicializar una lista para los nombres de los rostros reconocidos\n",
    "    face_names = []\n",
    "    \n",
    "    # Comparar cada codificación de rostro con las codificaciones conocidas\n",
    "    for face_encoding in face_encodings:\n",
    "        matches = face_recognition.compare_faces(known_face_encodings, face_encoding)\n",
    "        name = \"Unknown\"\n",
    "        \n",
    "        # Utilizar el rostro conocido con la menor distancia de codificación\n",
    "        face_distances = face_recognition.face_distance(known_face_encodings, face_encoding)\n",
    "        best_match_index = face_distances.argmin()\n",
    "        if matches[best_match_index]:\n",
    "            name = known_face_names[best_match_index]\n",
    "        \n",
    "        face_names.append(name)\n",
    "    \n",
    "    # Mostrar los resultados\n",
    "    for (top, right, bottom, left), name in zip(face_locations, face_names):\n",
    "        # Escalar las ubicaciones del rostro a partir del tamaño reducido\n",
    "        top *= 4\n",
    "        right *= 4\n",
    "        bottom *= 4\n",
    "        left *= 4\n",
    "        \n",
    "        # Dibujar un cuadro alrededor del rostro\n",
    "        cv2.rectangle(frame, (left, top), (right, bottom), (0, 255, 0), 2)\n",
    "        \n",
    "        # Dibujar una etiqueta con el nombre debajo del rostro\n",
    "        cv2.rectangle(frame, (left, bottom - 35), (right, bottom), (0, 255, 0), cv2.FILLED)\n",
    "        font = cv2.FONT_HERSHEY_DUPLEX\n",
    "        cv2.putText(frame, name, (left + 6, bottom - 6), font, 1.0, (255, 255, 255), 1)\n",
    "    \n",
    "    # Mostrar la imagen resultante\n",
    "    cv2.imshow('Video', frame)\n",
    "    \n",
    "    # Salir del bucle cuando se presiona la tecla 'q'\n",
    "    if cv2.waitKey(1) & 0xFF == ord('q'):\n",
    "        break\n",
    "\n",
    "# Liberar el manejador de la cámara y cerrar las ventanas\n",
    "video_capture.release()\n",
    "cv2.destroyAllWindows()\n"
   ]
  }
 ],
 "metadata": {
  "kernelspec": {
   "display_name": ".venv",
   "language": "python",
   "name": "python3"
  },
  "language_info": {
   "codemirror_mode": {
    "name": "ipython",
    "version": 3
   },
   "file_extension": ".py",
   "mimetype": "text/x-python",
   "name": "python",
   "nbconvert_exporter": "python",
   "pygments_lexer": "ipython3",
   "version": "3.12.4"
  }
 },
 "nbformat": 4,
 "nbformat_minor": 2
}
