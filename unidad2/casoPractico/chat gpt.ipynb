{
 "cells": [
  {
   "cell_type": "code",
   "execution_count": 2,
   "metadata": {},
   "outputs": [
    {
     "name": "stdout",
     "output_type": "stream",
     "text": [
      "Requirement already satisfied: cmake in /home/walmache/MEGA/autoCapacitacion/Maestria-IA/1.percepcionComputacional/repos/practicasPercepcionComputacional/.venv/lib/python3.10/site-packages (3.29.5.1)\n",
      "Collecting dlib\n",
      "  Using cached dlib-19.24.4.tar.gz (3.3 MB)\n",
      "  Installing build dependencies ... \u001b[?25ldone\n",
      "\u001b[?25h  Getting requirements to build wheel ... \u001b[?25ldone\n",
      "\u001b[?25h  Preparing metadata (pyproject.toml) ... \u001b[?25ldone\n",
      "\u001b[?25hBuilding wheels for collected packages: dlib\n",
      "  Building wheel for dlib (pyproject.toml) ... \u001b[?25lerror\n",
      "  \u001b[1;31merror\u001b[0m: \u001b[1msubprocess-exited-with-error\u001b[0m\n",
      "  \n",
      "  \u001b[31m×\u001b[0m \u001b[32mBuilding wheel for dlib \u001b[0m\u001b[1;32m(\u001b[0m\u001b[32mpyproject.toml\u001b[0m\u001b[1;32m)\u001b[0m did not run successfully.\n",
      "  \u001b[31m│\u001b[0m exit code: \u001b[1;36m1\u001b[0m\n",
      "  \u001b[31m╰─>\u001b[0m \u001b[31m[10 lines of output]\u001b[0m\n",
      "  \u001b[31m   \u001b[0m running bdist_wheel\n",
      "  \u001b[31m   \u001b[0m running build\n",
      "  \u001b[31m   \u001b[0m running build_ext\n",
      "  \u001b[31m   \u001b[0m Traceback (most recent call last):\n",
      "  \u001b[31m   \u001b[0m   File \"/home/walmache/MEGA/autoCapacitacion/Maestria-IA/1.percepcionComputacional/repos/practicasPercepcionComputacional/.venv/bin/cmake\", line 7, in <module>\n",
      "  \u001b[31m   \u001b[0m     from cmake import cmake\n",
      "  \u001b[31m   \u001b[0m ModuleNotFoundError: No module named 'cmake'\n",
      "  \u001b[31m   \u001b[0m \n",
      "  \u001b[31m   \u001b[0m ERROR: CMake must be installed to build dlib\n",
      "  \u001b[31m   \u001b[0m \n",
      "  \u001b[31m   \u001b[0m \u001b[31m[end of output]\u001b[0m\n",
      "  \n",
      "  \u001b[1;35mnote\u001b[0m: This error originates from a subprocess, and is likely not a problem with pip.\n",
      "\u001b[?25h\u001b[31m  ERROR: Failed building wheel for dlib\u001b[0m\u001b[31m\n",
      "\u001b[0mFailed to build dlib\n",
      "\u001b[31mERROR: Could not build wheels for dlib, which is required to install pyproject.toml-based projects\u001b[0m\u001b[31m\n",
      "\u001b[0m"
     ]
    }
   ],
   "source": [
    "!pip install cmake\n",
    "!pip install dlib\n"
   ]
  },
  {
   "cell_type": "code",
   "execution_count": null,
   "metadata": {},
   "outputs": [],
   "source": [
    "import cv2  # Biblioteca para el procesamiento de imágenes en tiempo real\n",
    "import face_recognition  # Biblioteca para el reconocimiento facial\n",
    "import os  "
   ]
  },
  {
   "cell_type": "code",
   "execution_count": null,
   "metadata": {},
   "outputs": [],
   "source": [
    "# Directorio donde se almacenan las imágenes de los rostros\n",
    "rostros_dir = 'rostros/'\n",
    "\n",
    "# Listas para almacenar las codificaciones de los rostros y sus nombres\n",
    "known_face_encodings = []\n",
    "known_face_names = []\n",
    "\n",
    "# Recorrer el directorio y procesar cada imagen\n",
    "for filename in os.listdir(rostros_dir):\n",
    "    if filename.endswith('.jpg') or filename.endswith('.png'):\n",
    "        # Cargar la imagen\n",
    "        image_path = os.path.join(rostros_dir, filename)\n",
    "        image = face_recognition.load_image_file(image_path)\n",
    "        \n",
    "        # Codificar el rostro\n",
    "        face_encoding = face_recognition.face_encodings(image)[0]\n",
    "        \n",
    "        # Agregar la codificación y el nombre a las listas\n",
    "        known_face_encodings.append(face_encoding)\n",
    "        known_face_names.append(os.path.splitext(filename)[0])  # Usar el nombre del archivo sin la extensión como nombre del rostro\n"
   ]
  },
  {
   "cell_type": "code",
   "execution_count": null,
   "metadata": {},
   "outputs": [],
   "source": [
    "# Iniciar la captura de video desde la cámara\n",
    "video_capture = cv2.VideoCapture(0)\n",
    "\n",
    "while True:\n",
    "    # Capturar un solo cuadro de video\n",
    "    ret, frame = video_capture.read()\n",
    "    \n",
    "    # Reducir el tamaño del cuadro para acelerar el procesamiento\n",
    "    small_frame = cv2.resize(frame, (0, 0), fx=0.25, fy=0.25)\n",
    "    \n",
    "    # Convertir el cuadro de BGR a RGB\n",
    "    rgb_small_frame = small_frame[:, :, ::-1]\n",
    "    \n",
    "    # Encontrar todos los rostros y sus codificaciones en el cuadro actual\n",
    "    face_locations = face_recognition.face_locations(rgb_small_frame)\n",
    "    face_encodings = face_recognition.face_encodings(rgb_small_frame, face_locations)\n",
    "    \n",
    "    # Inicializar una lista para los nombres de los rostros reconocidos\n",
    "    face_names = []\n",
    "    \n",
    "    # Comparar cada codificación de rostro con las codificaciones conocidas\n",
    "    for face_encoding in face_encodings:\n",
    "        matches = face_recognition.compare_faces(known_face_encodings, face_encoding)\n",
    "        name = \"Unknown\"\n",
    "        \n",
    "        # Utilizar el rostro conocido con la menor distancia de codificación\n",
    "        face_distances = face_recognition.face_distance(known_face_encodings, face_encoding)\n",
    "        best_match_index = face_distances.argmin()\n",
    "        if matches[best_match_index]:\n",
    "            name = known_face_names[best_match_index]\n",
    "        \n",
    "        face_names.append(name)\n",
    "    \n",
    "    # Mostrar los resultados\n",
    "    for (top, right, bottom, left), name in zip(face_locations, face_names):\n",
    "        # Escalar las ubicaciones del rostro a partir del tamaño reducido\n",
    "        top *= 4\n",
    "        right *= 4\n",
    "        bottom *= 4\n",
    "        left *= 4\n",
    "        \n",
    "        # Dibujar un cuadro alrededor del rostro\n",
    "        cv2.rectangle(frame, (left, top), (right, bottom), (0, 255, 0), 2)\n",
    "        \n",
    "        # Dibujar una etiqueta con el nombre debajo del rostro\n",
    "        cv2.rectangle(frame, (left, bottom - 35), (right, bottom), (0, 255, 0), cv2.FILLED)\n",
    "        font = cv2.FONT_HERSHEY_DUPLEX\n",
    "        cv2.putText(frame, name, (left + 6, bottom - 6), font, 1.0, (255, 255, 255), 1)\n",
    "    \n",
    "    # Mostrar la imagen resultante\n",
    "    cv2.imshow('Video', frame)\n",
    "    \n",
    "    # Salir del bucle cuando se presiona la tecla 'q'\n",
    "    if cv2.waitKey(1) & 0xFF == ord('q'):\n",
    "        break\n",
    "\n",
    "# Liberar el manejador de la cámara y cerrar las ventanas\n",
    "video_capture.release()\n",
    "cv2.destroyAllWindows()\n"
   ]
  }
 ],
 "metadata": {
  "kernelspec": {
   "display_name": ".venv",
   "language": "python",
   "name": "python3"
  },
  "language_info": {
   "codemirror_mode": {
    "name": "ipython",
    "version": 3
   },
   "file_extension": ".py",
   "mimetype": "text/x-python",
   "name": "python",
   "nbconvert_exporter": "python",
   "pygments_lexer": "ipython3",
   "version": "3.10.12"
  }
 },
 "nbformat": 4,
 "nbformat_minor": 2
}
