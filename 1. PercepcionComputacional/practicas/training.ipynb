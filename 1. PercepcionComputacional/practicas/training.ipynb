{
 "cells": [
  {
   "cell_type": "code",
   "execution_count": 4,
   "metadata": {},
   "outputs": [
    {
     "name": "stdout",
     "output_type": "stream",
     "text": [
      "Defaulting to user installation because normal site-packages is not writeable\n",
      "Requirement already satisfied: pandas in /home/walmache/.local/lib/python3.10/site-packages (2.2.2)\n",
      "Requirement already satisfied: tzdata>=2022.7 in /home/walmache/.local/lib/python3.10/site-packages (from pandas) (2024.1)\n",
      "Requirement already satisfied: python-dateutil>=2.8.2 in /home/walmache/.local/lib/python3.10/site-packages (from pandas) (2.9.0.post0)\n",
      "Requirement already satisfied: numpy>=1.22.4 in /home/walmache/.local/lib/python3.10/site-packages (from pandas) (1.26.4)\n",
      "Requirement already satisfied: pytz>=2020.1 in /usr/lib/python3/dist-packages (from pandas) (2022.1)\n",
      "Requirement already satisfied: six>=1.5 in /usr/lib/python3/dist-packages (from python-dateutil>=2.8.2->pandas) (1.16.0)\n",
      "Note: you may need to restart the kernel to use updated packages.\n",
      "Defaulting to user installation because normal site-packages is not writeable\n",
      "Collecting scikit-learn\n",
      "  Downloading scikit_learn-1.5.0-cp310-cp310-manylinux_2_17_x86_64.manylinux2014_x86_64.whl (13.3 MB)\n",
      "\u001b[2K     \u001b[90m━━━━━━━━━━━━━━━━━━━━━━━━━━━━━━━━━━━━━━━━\u001b[0m \u001b[32m13.3/13.3 MB\u001b[0m \u001b[31m49.5 MB/s\u001b[0m eta \u001b[36m0:00:00\u001b[0m00:01\u001b[0m00:01\u001b[0m\n",
      "\u001b[?25hCollecting scipy>=1.6.0\n",
      "  Downloading scipy-1.14.0-cp310-cp310-manylinux_2_17_x86_64.manylinux2014_x86_64.whl (41.1 MB)\n",
      "\u001b[2K     \u001b[90m━━━━━━━━━━━━━━━━━━━━━━━━━━━━━━━━━━━━━━━━\u001b[0m \u001b[32m41.1/41.1 MB\u001b[0m \u001b[31m37.7 MB/s\u001b[0m eta \u001b[36m0:00:00\u001b[0m00:01\u001b[0m00:01\u001b[0m\n",
      "\u001b[?25hCollecting joblib>=1.2.0\n",
      "  Downloading joblib-1.4.2-py3-none-any.whl (301 kB)\n",
      "\u001b[2K     \u001b[90m━━━━━━━━━━━━━━━━━━━━━━━━━━━━━━━━━━━━━━\u001b[0m \u001b[32m301.8/301.8 KB\u001b[0m \u001b[31m81.6 MB/s\u001b[0m eta \u001b[36m0:00:00\u001b[0m\n",
      "\u001b[?25hCollecting threadpoolctl>=3.1.0\n",
      "  Downloading threadpoolctl-3.5.0-py3-none-any.whl (18 kB)\n",
      "Requirement already satisfied: numpy>=1.19.5 in /home/walmache/.local/lib/python3.10/site-packages (from scikit-learn) (1.26.4)\n",
      "Installing collected packages: threadpoolctl, scipy, joblib, scikit-learn\n",
      "Successfully installed joblib-1.4.2 scikit-learn-1.5.0 scipy-1.14.0 threadpoolctl-3.5.0\n",
      "Note: you may need to restart the kernel to use updated packages.\n"
     ]
    }
   ],
   "source": [
    "%pip install pandas\n",
    "%pip install scikit-learn"
   ]
  },
  {
   "cell_type": "code",
   "execution_count": 5,
   "metadata": {},
   "outputs": [],
   "source": [
    "# Importar las bibliotecas necesarias\n",
    "import numpy as np\n",
    "import pandas as pd\n",
    "from sklearn.model_selection import train_test_split\n",
    "from sklearn.linear_model import LogisticRegression\n",
    "from sklearn.metrics import accuracy_score\n"
   ]
  },
  {
   "cell_type": "code",
   "execution_count": 6,
   "metadata": {},
   "outputs": [],
   "source": [
    "# Paso 1: Recopilación de Datos\n",
    "# Supongamos que tenemos un conjunto de datos simple sobre frutas\n",
    "data = {\n",
    "    'peso': [150, 170, 140, 130, 160, 180, 120, 110, 145, 135],\n",
    "    'color': [1, 1, 1, 0, 0, 0, 1, 0, 0, 1],  # 1 es rojo, 0 es verde\n",
    "    'es_manzana': [1, 1, 1, 0, 0, 0, 1, 0, 0, 1]  # 1 es manzana, 0 es no manzana\n",
    "}\n"
   ]
  },
  {
   "cell_type": "code",
   "execution_count": 7,
   "metadata": {},
   "outputs": [
    {
     "name": "stdout",
     "output_type": "stream",
     "text": [
      "   peso  color  es_manzana\n",
      "0   150      1           1\n",
      "1   170      1           1\n",
      "2   140      1           1\n",
      "3   130      0           0\n",
      "4   160      0           0\n",
      "5   180      0           0\n",
      "6   120      1           1\n",
      "7   110      0           0\n",
      "8   145      0           0\n",
      "9   135      1           1\n"
     ]
    }
   ],
   "source": [
    "# Convertir el diccionario en un DataFrame de Pandas\n",
    "df = pd.DataFrame(data)\n",
    "print (df)"
   ]
  },
  {
   "cell_type": "code",
   "execution_count": 12,
   "metadata": {},
   "outputs": [
    {
     "name": "stdout",
     "output_type": "stream",
     "text": [
      "   peso  color\n",
      "0   150      1\n",
      "1   170      1\n",
      "2   140      1\n",
      "3   130      0\n",
      "4   160      0\n",
      "5   180      0\n",
      "6   120      1\n",
      "7   110      0\n",
      "8   145      0\n",
      "9   135      1\n",
      "0    1\n",
      "1    1\n",
      "2    1\n",
      "3    0\n",
      "4    0\n",
      "5    0\n",
      "6    1\n",
      "7    0\n",
      "8    0\n",
      "9    1\n",
      "Name: es_manzana, dtype: int64\n"
     ]
    }
   ],
   "source": [
    "# Paso 2: Etiquetado de Datos\n",
    "# En este caso, ya tenemos los datos etiquetados: 'es_manzana' es nuestra etiqueta\n",
    "\n",
    "# Paso 3: Separar las características (X) y las etiquetas (y)\n",
    "X = df[['peso', 'color']]  # Características\n",
    "y = df['es_manzana']       # Etiquetas\n",
    "print (X)\n",
    "print (y)"
   ]
  },
  {
   "cell_type": "code",
   "execution_count": 13,
   "metadata": {},
   "outputs": [
    {
     "name": "stdout",
     "output_type": "stream",
     "text": [
      "   peso  color\n",
      "0   150      1\n",
      "7   110      0\n",
      "2   140      1\n",
      "9   135      1\n",
      "4   160      0\n",
      "3   130      0\n",
      "6   120      1    peso  color\n",
      "8   145      0\n",
      "1   170      1\n",
      "5   180      0 0    1\n",
      "7    0\n",
      "2    1\n",
      "9    1\n",
      "4    0\n",
      "3    0\n",
      "6    1\n",
      "Name: es_manzana, dtype: int64 8    0\n",
      "1    1\n",
      "5    0\n",
      "Name: es_manzana, dtype: int64\n"
     ]
    }
   ],
   "source": [
    "# Paso 4: Dividir los datos en conjuntos de entrenamiento y prueba\n",
    "X_train, X_test, y_train, y_test = train_test_split(X, y, test_size=0.3, random_state=42)\n",
    "print (X_train,X_test,y_train,y_test)"
   ]
  },
  {
   "cell_type": "code",
   "execution_count": 14,
   "metadata": {},
   "outputs": [
    {
     "name": "stdout",
     "output_type": "stream",
     "text": [
      "LogisticRegression()\n"
     ]
    }
   ],
   "source": [
    "# Paso 5: Entrenamiento\n",
    "# Crear un modelo de regresión logística\n",
    "modelo = LogisticRegression()\n",
    "print(modelo)"
   ]
  },
  {
   "cell_type": "code",
   "execution_count": 15,
   "metadata": {},
   "outputs": [
    {
     "name": "stdout",
     "output_type": "stream",
     "text": [
      "[0 1 1]\n"
     ]
    }
   ],
   "source": [
    "# Entrenar el modelo con los datos de entrenamiento\n",
    "modelo.fit(X_train, y_train)\n",
    "\n",
    "# Paso 6: Prueba\n",
    "# Predecir con los datos de prueba\n",
    "y_pred = modelo.predict(X_test)\n",
    "\n",
    "print(y_pred)"
   ]
  },
  {
   "cell_type": "code",
   "execution_count": 16,
   "metadata": {},
   "outputs": [
    {
     "name": "stdout",
     "output_type": "stream",
     "text": [
      "Precisión del modelo: 0.6666666666666666\n",
      "La fruta es una manzana\n"
     ]
    },
    {
     "name": "stderr",
     "output_type": "stream",
     "text": [
      "/home/walmache/.local/lib/python3.10/site-packages/sklearn/base.py:493: UserWarning: X does not have valid feature names, but LogisticRegression was fitted with feature names\n",
      "  warnings.warn(\n"
     ]
    }
   ],
   "source": [
    "# Evaluar la precisión del modelo\n",
    "precision = accuracy_score(y_test, y_pred)\n",
    "print(f'Precisión del modelo: {precision}')\n",
    "\n",
    "# Paso 7: Uso en el Mundo Real\n",
    "# Supongamos que tenemos una nueva fruta y queremos predecir si es una manzana\n",
    "nueva_fruta = np.array([[150, 1]])  # Una fruta de 150g y color rojo\n",
    "es_manzana = modelo.predict(nueva_fruta)\n",
    "if es_manzana[0] == 1:\n",
    "    print(\"La fruta es una manzana\")\n",
    "else:\n",
    "    print(\"La fruta no es una manzana\")"
   ]
  }
 ],
 "metadata": {
  "kernelspec": {
   "display_name": "Python 3",
   "language": "python",
   "name": "python3"
  },
  "language_info": {
   "codemirror_mode": {
    "name": "ipython",
    "version": 3
   },
   "file_extension": ".py",
   "mimetype": "text/x-python",
   "name": "python",
   "nbconvert_exporter": "python",
   "pygments_lexer": "ipython3",
   "version": "3.10.12"
  }
 },
 "nbformat": 4,
 "nbformat_minor": 2
}
