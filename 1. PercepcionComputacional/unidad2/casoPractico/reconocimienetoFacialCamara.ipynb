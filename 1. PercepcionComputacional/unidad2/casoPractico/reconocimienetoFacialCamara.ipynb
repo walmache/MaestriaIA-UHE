{
 "cells": [
  {
   "cell_type": "code",
   "execution_count": 1,
   "metadata": {},
   "outputs": [],
   "source": [
    "#Deterccion de reostros en tiempo real\n",
    "import cv2"
   ]
  },
  {
   "cell_type": "code",
   "execution_count": 2,
   "metadata": {},
   "outputs": [],
   "source": [
    "face_classiffier = cv2.CascadeClassifier(cv2.data.haarcascades+\"haarcascade_frontalface_default.xml\") \n",
    "#face_classiffier = cv2.CascadeClassifier(\"haarcascades/haarcascade_frontalface_default.xml\") "
   ]
  },
  {
   "cell_type": "code",
   "execution_count": 3,
   "metadata": {},
   "outputs": [],
   "source": [
    "#video_capture.release()\n",
    "video_capture  =  cv2.VideoCapture(0)"
   ]
  },
  {
   "cell_type": "code",
   "execution_count": 4,
   "metadata": {},
   "outputs": [],
   "source": [
    "def detect_bounding_box(vid):\n",
    "    gray_image = cv2.cvtColor(vid.cv2.COLOR_BGR2GRAY)\n",
    "    faces =  face_classiffier.detectMultiScale(gray_image,1.1,5,minSize=(40,40))\n",
    "    for (x,y,w,h) in faces:\n",
    "        cv2.rectangle(vid,(x,y),(x+w,y+h),(0,255,0),4)\n",
    "    return faces"
   ]
  },
  {
   "cell_type": "code",
   "execution_count": 6,
   "metadata": {},
   "outputs": [
    {
     "data": {
      "text/plain": [
       "<function destroyAllWindows>"
      ]
     },
     "execution_count": 6,
     "metadata": {},
     "output_type": "execute_result"
    }
   ],
   "source": [
    "while True:\n",
    "    # Leer un fotograma de la captura de video\n",
    "    result, video_frame = video_capture.read()\n",
    "    \n",
    "    # Finalizar el bucle si el fotograma no se lee correctamente\n",
    "    if result is False:\n",
    "        break \n",
    "    #faces = detect_bounding_box(video_frame)\n",
    "    cv2.imshow('Mi cara',video_frame)\n",
    "    if cv2.waitKey(1) & 0xFF == ord('q'):\n",
    "        break\n",
    "video_capture.release()\n",
    "cv2.destroyAllWindows"
   ]
  },
  {
   "cell_type": "code",
   "execution_count": 7,
   "metadata": {},
   "outputs": [
    {
     "data": {
      "text/plain": [
       "<function destroyAllWindows>"
      ]
     },
     "execution_count": 7,
     "metadata": {},
     "output_type": "execute_result"
    }
   ],
   "source": [
    "video_capture.release()\n",
    "cv2.destroyAllWindows"
   ]
  }
 ],
 "metadata": {
  "kernelspec": {
   "display_name": ".venv",
   "language": "python",
   "name": "python3"
  },
  "language_info": {
   "codemirror_mode": {
    "name": "ipython",
    "version": 3
   },
   "file_extension": ".py",
   "mimetype": "text/x-python",
   "name": "python",
   "nbconvert_exporter": "python",
   "pygments_lexer": "ipython3",
   "version": "3.10.12"
  }
 },
 "nbformat": 4,
 "nbformat_minor": 2
}
